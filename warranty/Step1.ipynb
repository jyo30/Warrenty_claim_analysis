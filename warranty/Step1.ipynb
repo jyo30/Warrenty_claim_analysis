{
 "cells": [
  {
   "cell_type": "code",
   "execution_count": 1,
   "id": "f35175bc",
   "metadata": {},
   "outputs": [],
   "source": [
    "import pandas as pd"
   ]
  },
  {
   "cell_type": "code",
   "execution_count": 2,
   "id": "8ae532d6",
   "metadata": {},
   "outputs": [],
   "source": [
    "df1 = pd.read_excel('ST-GWC Debit ID 6001363_(DISPUTED CLAIMS) 05122023.xlsx')  "
   ]
  },
  {
   "cell_type": "code",
   "execution_count": 3,
   "id": "923c96d5",
   "metadata": {},
   "outputs": [],
   "source": [
    "df = df1.iloc[:, :-4]"
   ]
  },
  {
   "cell_type": "code",
   "execution_count": 4,
   "id": "c2309320",
   "metadata": {},
   "outputs": [],
   "source": [
    "# Convert  columns to datetime objects\n",
    "df['Warranty Start Date'] = pd.to_datetime(df['Warranty Start Date'])\n",
    "df['Repair Date'] = pd.to_datetime(df['Repair Date'])\n",
    "\n",
    "df['time_in_service_years'] = (df['Repair Date'] - df['Warranty Start Date']).dt.days / 365.25  # Consider leap years\n"
   ]
  },
  {
   "cell_type": "code",
   "execution_count": 5,
   "id": "98376208",
   "metadata": {},
   "outputs": [],
   "source": [
    "df['predicted validity1'] = 'Accepted'\n",
    "condition = (df['Mileage'] > 36000) | (df['time_in_service_years'] > 3) | (df['Vehicle Line AWS'].isin(['M4', 'R2', 'ZE']))\n",
    "df.loc[condition, 'predicted validity1'] = 'Rejected'"
   ]
  },
  {
   "cell_type": "code",
   "execution_count": 6,
   "id": "a9becbd4",
   "metadata": {},
   "outputs": [
    {
     "name": "stdout",
     "output_type": "stream",
     "text": [
      "DataFrame saved to Excel successfully.\n"
     ]
    }
   ],
   "source": [
    "import pandas as pd\n",
    "\n",
    "# Assuming 'df' is your DataFrame with the columns 'Mileage', 'time_in_service_years', and 'Vehicle Line AWS'\n",
    "\n",
    "# Add the 'predicted validity1' column with initial value 'Accepted'\n",
    "df['predicted validity1'] = 'Accepted'\n",
    "\n",
    "# Set conditions to update 'predicted validity1' column\n",
    "condition = (df['Mileage'] > 36000) | (df['time_in_service_years'] > 3) | (df['Vehicle Line AWS'].isin(['M4', 'R2', 'ZE']))\n",
    "df.loc[condition, 'predicted validity1'] = 'Rejected'\n",
    "\n",
    "# Save the DataFrame to an Excel file\n",
    "output_filename = 'step1output.xlsx'\n",
    "df.to_excel(output_filename, index=False)\n",
    "\n",
    "print(\"DataFrame saved to Excel successfully.\")\n"
   ]
  },
  {
   "cell_type": "code",
   "execution_count": null,
   "id": "c7a52401",
   "metadata": {},
   "outputs": [],
   "source": []
  }
 ],
 "metadata": {
  "kernelspec": {
   "display_name": "Python 3 (ipykernel)",
   "language": "python",
   "name": "python3"
  },
  "language_info": {
   "codemirror_mode": {
    "name": "ipython",
    "version": 3
   },
   "file_extension": ".py",
   "mimetype": "text/x-python",
   "name": "python",
   "nbconvert_exporter": "python",
   "pygments_lexer": "ipython3",
   "version": "3.9.13"
  }
 },
 "nbformat": 4,
 "nbformat_minor": 5
}
