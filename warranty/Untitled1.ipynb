{
 "cells": [
  {
   "cell_type": "code",
   "execution_count": 3,
   "id": "f3fa7225",
   "metadata": {},
   "outputs": [],
   "source": [
    "import pandas as pd"
   ]
  },
  {
   "cell_type": "code",
   "execution_count": 4,
   "id": "25025210",
   "metadata": {},
   "outputs": [],
   "source": [
    "df1 = pd.read_excel('ST-GWC Debit ID 6001363_(DISPUTED CLAIMS) 05122023.xlsx')  "
   ]
  },
  {
   "cell_type": "code",
   "execution_count": null,
   "id": "c5d1be9f",
   "metadata": {},
   "outputs": [],
   "source": [
    "df = df1.iloc[:, :-3]"
   ]
  },
  {
   "cell_type": "markdown",
   "id": "98876774",
   "metadata": {},
   "source": [
    "# Handling Abbreviations\n"
   ]
  },
  {
   "cell_type": "code",
   "execution_count": null,
   "id": "50c3cfbb",
   "metadata": {},
   "outputs": [],
   "source": [
    "abbreviations_df = pd.read_excel('ABBREV.xlsx')"
   ]
  },
  {
   "cell_type": "code",
   "execution_count": null,
   "id": "8d3b97a7",
   "metadata": {},
   "outputs": [],
   "source": [
    "abbreviations = dict(zip(abbreviations_df['Acronym'], abbreviations_df['Full Form']))"
   ]
  },
  {
   "cell_type": "code",
   "execution_count": null,
   "id": "196d03ce",
   "metadata": {},
   "outputs": [],
   "source": [
    "def replace_abbreviations(text):\n",
    "    words = str(text).split()\n",
    "    for i in range(len(words)):\n",
    "        if words[i] in abbreviations:\n",
    "            words[i] = abbreviations[words[i]]\n",
    "    return ' '.join(words)"
   ]
  },
  {
   "cell_type": "code",
   "execution_count": null,
   "id": "d6c26a55",
   "metadata": {},
   "outputs": [],
   "source": [
    "df['Technician Comments'] = df['Technician Comments'].apply(replace_abbreviations)\n",
    "df['Customer Comments'] = df['Customer Comments'].apply(replace_abbreviations)"
   ]
  },
  {
   "cell_type": "markdown",
   "id": "54a327bb",
   "metadata": {},
   "source": [
    "# Handling spellings"
   ]
  },
  {
   "cell_type": "code",
   "execution_count": null,
   "id": "bf0eadac",
   "metadata": {},
   "outputs": [],
   "source": [
    "from spellchecker import SpellChecker\n",
    "spell = SpellChecker()"
   ]
  },
  {
   "cell_type": "code",
   "execution_count": null,
   "id": "5eec367e",
   "metadata": {},
   "outputs": [],
   "source": [
    "def correct_spelling(text):\n",
    "    corrected_words = []\n",
    "    words = text.split()\n",
    "    \n",
    "    for word in words:\n",
    "        corrected_word = spell.correction(word)\n",
    "        if corrected_word is not None:\n",
    "            corrected_words.append(corrected_word)\n",
    "        else:\n",
    "            corrected_words.append('')  # Replace None with empty string\n",
    "    \n",
    "    return ' '.join(corrected_words)"
   ]
  },
  {
   "cell_type": "code",
   "execution_count": null,
   "id": "c9c0b5d1",
   "metadata": {},
   "outputs": [],
   "source": [
    "df['Technician Comments'] = df['Technician Comments'].apply(correct_spelling)\n",
    "df['Customer Comments'] = df['Customer Comments'].apply(correct_spelling)"
   ]
  },
  {
   "cell_type": "code",
   "execution_count": null,
   "id": "a2a82bf2",
   "metadata": {},
   "outputs": [],
   "source": [
    "import pandas as pd\n",
    "import nltk\n",
    "from sklearn.feature_extraction.text import CountVectorizer\n",
    "from sklearn.model_selection import train_test_split\n",
    "from sklearn.linear_model import LogisticRegression\n",
    "from sklearn.metrics import accuracy_score, classification_report"
   ]
  },
  {
   "cell_type": "code",
   "execution_count": null,
   "id": "e6bbd01e",
   "metadata": {},
   "outputs": [],
   "source": [
    "df['SUPPLIER DISPUTES VALIDITY?'].fillna('accepted', inplace=True)\n",
    "df['SUPPLIER DISPUTES VALIDITY?'].replace('X', 'rejected', inplace=True)"
   ]
  },
  {
   "cell_type": "code",
   "execution_count": null,
   "id": "f987438b",
   "metadata": {},
   "outputs": [],
   "source": [
    " #Step 1: Data Preparation\n",
    "df['combined_comments'] = df['Technician Comments'] + \" \" + df['Customer Comments']\n",
    "X = df['combined_comments']  # Input features (combined comments)\n",
    "y = df['SUPPLIER DISPUTES VALIDITY?']  # Output/target variable"
   ]
  },
  {
   "cell_type": "code",
   "execution_count": null,
   "id": "903ce85f",
   "metadata": {},
   "outputs": [],
   "source": [
    "# Step 2: Text Preprocessing\n",
    "nltk.download('punkt')\n",
    "nltk.download('stopwords')\n",
    "from nltk.corpus import stopwords\n",
    "stop_words = set(stopwords.words('english'))"
   ]
  },
  {
   "cell_type": "code",
   "execution_count": null,
   "id": "ef8dbc44",
   "metadata": {},
   "outputs": [],
   "source": [
    "def preprocess_text(text):\n",
    "    # Tokenization\n",
    "    tokens = nltk.word_tokenize(text.lower())\n",
    "    # Remove stop words and punctuations\n",
    "    words = [word for word in tokens if word.isalpha() and word not in stop_words]\n",
    "    # Combine words back to a single string\n",
    "    return \" \".join(words)"
   ]
  },
  {
   "cell_type": "code",
   "execution_count": null,
   "id": "2190b20c",
   "metadata": {},
   "outputs": [],
   "source": [
    "X = X.apply(preprocess_text)"
   ]
  },
  {
   "cell_type": "code",
   "execution_count": null,
   "id": "6f91a7e8",
   "metadata": {},
   "outputs": [],
   "source": [
    "vectorizer = CountVectorizer()\n",
    "X_vectorized = vectorizer.fit_transform(X)"
   ]
  },
  {
   "cell_type": "code",
   "execution_count": null,
   "id": "30c25301",
   "metadata": {},
   "outputs": [],
   "source": [
    "X_train, X_test, y_train, y_test = train_test_split(X_vectorized, y, test_size=0.2, random_state=42)"
   ]
  },
  {
   "cell_type": "code",
   "execution_count": null,
   "id": "544b8368",
   "metadata": {},
   "outputs": [],
   "source": [
    "model = LogisticRegression()\n",
    "model.fit(X_train, y_train)"
   ]
  },
  {
   "cell_type": "code",
   "execution_count": null,
   "id": "17431d3e",
   "metadata": {},
   "outputs": [],
   "source": [
    "y_pred = model.predict(X_test)\n",
    "accuracy = accuracy_score(y_test, y_pred)\n",
    "print(\"Accuracy:\", accuracy)\n",
    "print(classification_report(y_test, y_pred))"
   ]
  },
  {
   "cell_type": "code",
   "execution_count": null,
   "id": "64575d69",
   "metadata": {},
   "outputs": [],
   "source": [
    "import joblib\n",
    "\n",
    "# Save the trained model to a file\n",
    "model_filename = \"supplier_validity_model.pkl\"\n",
    "joblib.dump(model, model_filename)\n"
   ]
  },
  {
   "cell_type": "code",
   "execution_count": null,
   "id": "f5040078",
   "metadata": {},
   "outputs": [],
   "source": [
    "# Load the saved model from the file\n",
    "loaded_model = joblib.load(model_filename)\n",
    "\n",
    "# Example function to get predictions\n",
    "def get_supplier_validity_prediction(technician_comments, customer_comments):\n",
    "    # Combine comments\n",
    "    combined_comments = technician_comments + \" \" + customer_comments\n",
    "    # Preprocess text\n",
    "    preprocessed_comments = preprocess_text(combined_comments)\n",
    "    # Vectorize the preprocessed comments\n",
    "    comments_vectorized = vectorizer.transform([preprocessed_comments])\n",
    "    # Make prediction\n",
    "    prediction = loaded_model.predict(comments_vectorized)\n",
    "    return prediction[0]  # Return the predicted supplier validity\n",
    "\n",
    "# # Example usage\n",
    "# technician_comments = \"The product had some technical issues.\"\n",
    "# customer_comments = \"I received the product in good condition, but it stopped working after a week.\"\n",
    "# predicted_validity = get_supplier_validity_prediction(technician_comments, customer_comments)\n",
    "# print(\"Predicted Supplier Validity:\", predicted_validity)\n"
   ]
  },
  {
   "cell_type": "code",
   "execution_count": null,
   "id": "4e60612a",
   "metadata": {},
   "outputs": [],
   "source": [
    "# Apply the prediction function to each row in the DataFrame and store results in a new column\n",
    "df['predicted_validity'] = df.apply(lambda row: get_supplier_validity_prediction(row['Technician Comments'], row['Customer Comments']), axis=1)\n",
    "\n",
    "# Display the DataFrame with the new 'predicted_validity' column\n",
    "print(df['predicted_validity'])"
   ]
  },
  {
   "cell_type": "code",
   "execution_count": null,
   "id": "80023c5a",
   "metadata": {},
   "outputs": [],
   "source": []
  }
 ],
 "metadata": {
  "kernelspec": {
   "display_name": "Python 3 (ipykernel)",
   "language": "python",
   "name": "python3"
  },
  "language_info": {
   "codemirror_mode": {
    "name": "ipython",
    "version": 3
   },
   "file_extension": ".py",
   "mimetype": "text/x-python",
   "name": "python",
   "nbconvert_exporter": "python",
   "pygments_lexer": "ipython3",
   "version": "3.9.13"
  }
 },
 "nbformat": 4,
 "nbformat_minor": 5
}
